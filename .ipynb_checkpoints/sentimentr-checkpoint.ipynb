{
 "cells": [
  {
   "cell_type": "code",
   "execution_count": 2,
   "id": "46f2de35-a63d-473e-b751-f59cc891538c",
   "metadata": {},
   "outputs": [
    {
     "ename": "ModuleNotFoundError",
     "evalue": "No module named 'config_real'",
     "output_type": "error",
     "traceback": [
      "\u001b[1;31m---------------------------------------------------------------------------\u001b[0m",
      "\u001b[1;31mModuleNotFoundError\u001b[0m                       Traceback (most recent call last)",
      "Input \u001b[1;32mIn [2]\u001b[0m, in \u001b[0;36m<cell line: 4>\u001b[1;34m()\u001b[0m\n\u001b[0;32m      2\u001b[0m \u001b[38;5;28;01mimport\u001b[39;00m \u001b[38;5;21;01mpandas\u001b[39;00m \u001b[38;5;28;01mas\u001b[39;00m \u001b[38;5;21;01mpd\u001b[39;00m\n\u001b[0;32m      3\u001b[0m \u001b[38;5;28;01mimport\u001b[39;00m \u001b[38;5;21;01mtweepy\u001b[39;00m \n\u001b[1;32m----> 4\u001b[0m \u001b[38;5;28;01mimport\u001b[39;00m \u001b[38;5;21;01mconfig_real\u001b[39;00m \u001b[38;5;28;01mas\u001b[39;00m \u001b[38;5;21;01mcfg\u001b[39;00m\n\u001b[0;32m      5\u001b[0m \u001b[38;5;28;01mimport\u001b[39;00m \u001b[38;5;21;01mpandasql\u001b[39;00m \u001b[38;5;28;01mas\u001b[39;00m \u001b[38;5;21;01mpds\u001b[39;00m\n",
      "\u001b[1;31mModuleNotFoundError\u001b[0m: No module named 'config_real'"
     ]
    }
   ],
   "source": [
    "import flair\n",
    "import pandas as pd\n",
    "import tweepy \n",
    "import config_real as cfg\n",
    "import pandasql as pds"
   ]
  },
  {
   "cell_type": "code",
   "execution_count": null,
   "id": "743dc4de-79d6-4104-8f13-89553b3d0be0",
   "metadata": {},
   "outputs": [],
   "source": [
    "def sentiment_review(query, maxresults):\n",
    "    import flair\n",
    "    import pandas as pd\n",
    "    import tweepy \n",
    "    import config_real as cfg\n",
    "    import pandasql as pds\n",
    "    \n",
    "    \n",
    "    client = tweepy.Client(bearer_token = cfg.bearer_token)\n",
    "    response = client.search_recent_tweets(query = query, max_results = maxresults,\n",
    "                                           tweet_fields = ['created_at', 'lang'],\n",
    "                                           expansions = ['author_id'],\n",
    "                                           user_fields = ['name', 'username'])\n",
    "    users = {u['id']:u for u in response.includes['users']}\n",
    "    \n",
    "    \n",
    "    sentiment_model = flair.models.TextClassifier.load('en-sentiment')\n",
    "    pd.set_option('display.max_colwidth', None)\n",
    "    tweetId = []\n",
    "    tweetText = []\n",
    "    tweetUsername = []\n",
    "    tweetName = []\n",
    "    for tweet in response.data:\n",
    "        if users[tweet.author_id]:\n",
    "            user = users[tweet.author_id]\n",
    "            tweetId.append(tweet.id)\n",
    "            tweetText.append(tweet.text)\n",
    "            tweetUsername.append(user.username)\n",
    "            tweetName.append(user.name)\n",
    "    tweetIdS = pd.Series(tweetId)\n",
    "    tweetTextS = pd.Series(tweetText)\n",
    "    tweetUsernameS = pd.Series(tweetUsername)\n",
    "    tweetNameS = pd.Series(tweetName)\n",
    "    data = {\"tweetIdS\":tweetIdS, \n",
    "            \"tweetNameS\":tweetNameS,\n",
    "            \"tweetUserNameS\":tweetUsernameS,\n",
    "            \"tweetTextS\":tweetTextS}\n",
    "    df = pd.concat(data, axis = 1)\n",
    "    sentiment = []\n",
    "    confidence = []\n",
    "\n",
    "\n",
    "    for text in tweetTextS:\n",
    "        s = flair.data.Sentence(text)\n",
    "        sentiment_model.predict(s)\n",
    "\n",
    "        sentiment.append(s.labels[0].value)\n",
    "        confidence.append(s.labels[0].score)\n",
    "\n",
    "\n",
    "    df['sentiment'] = sentiment\n",
    "    df['confidence'] = confidence\n",
    "    positive_tweets = pds.sqldf(\"select count(sentiment)as n from df where sentiment = 'POSITIVE'\")['n'].iloc[0]\n",
    "    negative_tweets = pds.sqldf(\"select count(sentiment)as n from df where sentiment = 'NEGATIVE'\")['n'].iloc[0]\n",
    "    \n",
    "    return \"there were {} negative tweets and {} positive tweets about {}\".format(negative_tweets, positive_tweets, query)"
   ]
  },
  {
   "cell_type": "code",
   "execution_count": null,
   "id": "510fb949-7257-42fb-b2b7-4b0046a8ecb1",
   "metadata": {},
   "outputs": [],
   "source": [
    "# are turtles more popular than __?\n",
    "\n",
    "def turtles(query):\n",
    "    import re\n",
    "\n",
    "\n",
    "    turtles_string = sentiment_review('turtles', 100)\n",
    "    neg_pos = re.findall('\\d+', turtles_string)\n",
    "    neg = neg_pos[0]\n",
    "    pos = neg_pos[1]\n",
    "    neg_pos\n",
    "    query_string = sentiment_review(query, 100)\n",
    "    neg_posQ = re.findall('\\d+', query_string)\n",
    "    neg_posQ\n",
    "    negQ = neg_posQ[0]\n",
    "    posQ = neg_posQ[1]\n",
    "    \n",
    "    \n",
    "    if posQ > pos:\n",
    "        return 'damn, your shit is more liked than turtles'\n",
    "    elif posQ == pos:\n",
    "        return 'same thing'\n",
    "    else:\n",
    "        return 'nah, turtles are king'"
   ]
  },
  {
   "cell_type": "code",
   "execution_count": null,
   "id": "a95fc70f-3fc5-4a2b-86d1-43aef019cb3e",
   "metadata": {},
   "outputs": [],
   "source": [
    "turtles('joe rogan')"
   ]
  },
  {
   "cell_type": "code",
   "execution_count": null,
   "id": "26c8fa34-3f5a-4a32-9b7e-4703e71d042e",
   "metadata": {},
   "outputs": [],
   "source": []
  },
  {
   "cell_type": "code",
   "execution_count": null,
   "id": "d1b1cc5e-ecf6-407b-a606-c4ddd461cb60",
   "metadata": {},
   "outputs": [],
   "source": []
  },
  {
   "cell_type": "code",
   "execution_count": null,
   "id": "496381e1-0b36-495c-a7f7-61535edde6b0",
   "metadata": {},
   "outputs": [],
   "source": []
  },
  {
   "cell_type": "code",
   "execution_count": null,
   "id": "35dd1663-2e36-44cf-92ff-2d0e93f26a55",
   "metadata": {},
   "outputs": [],
   "source": []
  }
 ],
 "metadata": {
  "kernelspec": {
   "display_name": "Python 3 (ipykernel)",
   "language": "python",
   "name": "python3"
  },
  "language_info": {
   "codemirror_mode": {
    "name": "ipython",
    "version": 3
   },
   "file_extension": ".py",
   "mimetype": "text/x-python",
   "name": "python",
   "nbconvert_exporter": "python",
   "pygments_lexer": "ipython3",
   "version": "3.9.9"
  }
 },
 "nbformat": 4,
 "nbformat_minor": 5
}
